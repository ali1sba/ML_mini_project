{
 "cells": [
  {
   "cell_type": "code",
   "execution_count": 117,
   "id": "06d8e7ac",
   "metadata": {},
   "outputs": [],
   "source": [
    "import numpy as np \n",
    "import pandas as pd\n",
    "import matplotlib.pyplot as plt"
   ]
  },
  {
   "cell_type": "code",
   "execution_count": 118,
   "id": "cecb72aa",
   "metadata": {},
   "outputs": [
    {
     "data": {
      "text/plain": [
       "3184"
      ]
     },
     "execution_count": 118,
     "metadata": {},
     "output_type": "execute_result"
    }
   ],
   "source": [
    "data = pd.read_csv(\"train.csv\")\n",
    "data = data.drop(columns=[\"case_id\", \"Hospital_code\", \"City_Code_Hospital\",\"patientid\"])\n",
    "\n",
    "#data = data.select_dtypes(exclude=[np.number])\n",
    "\n",
    "data = data.sample(frac=.01)\n",
    "len(data)\n"
   ]
  },
  {
   "cell_type": "code",
   "execution_count": 119,
   "id": "0d6b2867",
   "metadata": {},
   "outputs": [
    {
     "data": {
      "text/html": [
       "<div>\n",
       "<style scoped>\n",
       "    .dataframe tbody tr th:only-of-type {\n",
       "        vertical-align: middle;\n",
       "    }\n",
       "\n",
       "    .dataframe tbody tr th {\n",
       "        vertical-align: top;\n",
       "    }\n",
       "\n",
       "    .dataframe thead th {\n",
       "        text-align: right;\n",
       "    }\n",
       "</style>\n",
       "<table border=\"1\" class=\"dataframe\">\n",
       "  <thead>\n",
       "    <tr style=\"text-align: right;\">\n",
       "      <th></th>\n",
       "      <th>cat_available_rooms</th>\n",
       "      <th>cat_bed_grade</th>\n",
       "      <th>cat_city_code_patient</th>\n",
       "      <th>cat_visitors_with_patient</th>\n",
       "      <th>cat_admission_deposit</th>\n",
       "      <th>Hospital_type_code</th>\n",
       "      <th>Hospital_region_code</th>\n",
       "      <th>Department</th>\n",
       "      <th>Ward_Type</th>\n",
       "      <th>Ward_Facility_Code</th>\n",
       "      <th>Type of Admission</th>\n",
       "      <th>Severity of Illness</th>\n",
       "      <th>Age</th>\n",
       "      <th>Stay</th>\n",
       "    </tr>\n",
       "  </thead>\n",
       "  <tbody>\n",
       "    <tr>\n",
       "      <th>112371</th>\n",
       "      <td>1</td>\n",
       "      <td>3</td>\n",
       "      <td>0</td>\n",
       "      <td>0</td>\n",
       "      <td>2</td>\n",
       "      <td>a</td>\n",
       "      <td>Y</td>\n",
       "      <td>gynecology</td>\n",
       "      <td>R</td>\n",
       "      <td>C</td>\n",
       "      <td>Trauma</td>\n",
       "      <td>Extreme</td>\n",
       "      <td>81-90</td>\n",
       "      <td>21-30</td>\n",
       "    </tr>\n",
       "  </tbody>\n",
       "</table>\n",
       "</div>"
      ],
      "text/plain": [
       "       cat_available_rooms cat_bed_grade cat_city_code_patient  \\\n",
       "112371                   1             3                     0   \n",
       "\n",
       "       cat_visitors_with_patient cat_admission_deposit Hospital_type_code  \\\n",
       "112371                         0                     2                  a   \n",
       "\n",
       "       Hospital_region_code  Department Ward_Type Ward_Facility_Code  \\\n",
       "112371                    Y  gynecology         R                  C   \n",
       "\n",
       "       Type of Admission Severity of Illness    Age   Stay  \n",
       "112371            Trauma             Extreme  81-90  21-30  "
      ]
     },
     "execution_count": 119,
     "metadata": {},
     "output_type": "execute_result"
    }
   ],
   "source": [
    "data[\"cat_available_rooms\"] = pd.cut(data[\"Available Extra Rooms in Hospital\"].values, bins = 6,labels = [0,1,2,3,4,5])\n",
    "data[\"cat_bed_grade\"] = pd.cut(data[\"Bed Grade\"].values, bins = 6,labels = [0,1,2,3,4,5])\n",
    "data[\"cat_city_code_patient\"] = pd.cut(data[\"City_Code_Patient\"].values, bins = 6,labels = [0,1,2,3,4,5])\n",
    "data[\"cat_visitors_with_patient\"] = pd.cut(data[\"Visitors with Patient\"].values, bins = 6,labels = [0,1,2,3,4,5])\n",
    "data[\"cat_admission_deposit\"] = pd.cut(data[\"Admission_Deposit\"].values, bins = 6,labels = [0,1,2,3,4,5])\n",
    "\n",
    "data = data.drop(columns=[\"Available Extra Rooms in Hospital\",\"Bed Grade\",\"City_Code_Patient\",\"Visitors with Patient\",\"Admission_Deposit\"])\n",
    "data = data[[\"cat_available_rooms\",\"cat_bed_grade\",\"cat_city_code_patient\",\"cat_visitors_with_patient\",\"cat_admission_deposit\",\"Hospital_type_code\",\"Hospital_region_code\",\"Department\",\"Ward_Type\"\n",
    "            ,\"Ward_Facility_Code\",\"Type of Admission\",\"Severity of Illness\",\"Age\",\"Stay\"\n",
    "            ]]\n",
    "\n",
    "data.head(1)"
   ]
  },
  {
   "cell_type": "code",
   "execution_count": 120,
   "id": "51c12e41",
   "metadata": {},
   "outputs": [],
   "source": [
    "#Calculate P(Y=y) for all possible y\n",
    "def calculate_prior(df, Y):\n",
    "    classes = sorted(list(df[Y].unique()))\n",
    "    prior = []\n",
    "    for i in classes:\n",
    "        prior.append(len(df[df[Y]==i])/len(df))\n",
    "    return prior"
   ]
  },
  {
   "cell_type": "code",
   "execution_count": 121,
   "id": "5d038dd2",
   "metadata": {},
   "outputs": [],
   "source": [
    "def calculate_likelihood_categorical(df, feat_name, feat_val, Y, label):\n",
    "    feat = list(df.columns)\n",
    "    df = df[df[Y]==label]\n",
    "    p_x_given_y = len(df[df[feat_name]==feat_val]) / len(df)\n",
    "    return p_x_given_y"
   ]
  },
  {
   "cell_type": "code",
   "execution_count": 122,
   "id": "19224680",
   "metadata": {},
   "outputs": [],
   "source": [
    "def naive_bayes_categorical(df, X, Y):\n",
    "    # get feature names\n",
    "    features = list(df.columns)[:-1]\n",
    "\n",
    "    # calculate prior\n",
    "    prior = calculate_prior(df, Y)\n",
    "\n",
    "    Y_pred = []\n",
    "    # loop over every data sample\n",
    "    for x in X:\n",
    "        # calculate likelihood\n",
    "        labels = sorted(list(df[Y].unique()))\n",
    "        likelihood = [1]*len(labels)\n",
    "        for j in range(len(labels)):\n",
    "            for i in range(len(features)):\n",
    "                likelihood[j] *= calculate_likelihood_categorical(df, features[i], x[i], Y, labels[j])\n",
    "\n",
    "        # calculate posterior probability (numerator only)\n",
    "        post_prob = [1]*len(labels)\n",
    "        for j in range(len(labels)):\n",
    "            post_prob[j] = likelihood[j] * prior[j]\n",
    "        \n",
    "        Y_pred.append(labels[np.argmax(post_prob)])\n",
    "    \n",
    "    return np.array(Y_pred) "
   ]
  },
  {
   "cell_type": "code",
   "execution_count": 123,
   "id": "af5e652d",
   "metadata": {},
   "outputs": [],
   "source": [
    "def compute_accuracy(y_true, y_pred):\n",
    "    correct_predictions = 0\n",
    "    # iterate over each label and check\n",
    "    for true, predicted in zip(y_true, y_pred):\n",
    "        if true == predicted:\n",
    "            correct_predictions += 1\n",
    "    # compute the accuracy\n",
    "    accuracy = correct_predictions/len(y_true)\n",
    "    return accuracy"
   ]
  },
  {
   "cell_type": "code",
   "execution_count": 124,
   "id": "a12c85aa",
   "metadata": {},
   "outputs": [
    {
     "name": "stdout",
     "output_type": "stream",
     "text": [
      "0.322884012539185\n"
     ]
    }
   ],
   "source": [
    "from sklearn.model_selection import train_test_split\n",
    "train, test = train_test_split(data, test_size=.1)\n",
    "\n",
    "X_test = test.iloc[:,:-1].values\n",
    "Y_test = test.iloc[:,-1].values\n",
    "Y_pred = naive_bayes_categorical(train, X=X_test, Y=\"Stay\")\n",
    "\n",
    "print(compute_accuracy(Y_test,Y_pred))\n",
    "\n",
    "#Current accuracy => 0.322884012539185"
   ]
  },
  {
   "cell_type": "code",
   "execution_count": null,
   "id": "96454a04",
   "metadata": {},
   "outputs": [],
   "source": []
  }
 ],
 "metadata": {
  "kernelspec": {
   "display_name": "Python 3 (ipykernel)",
   "language": "python",
   "name": "python3"
  },
  "language_info": {
   "codemirror_mode": {
    "name": "ipython",
    "version": 3
   },
   "file_extension": ".py",
   "mimetype": "text/x-python",
   "name": "python",
   "nbconvert_exporter": "python",
   "pygments_lexer": "ipython3",
   "version": "3.9.6"
  }
 },
 "nbformat": 4,
 "nbformat_minor": 5
}
